{
 "cells": [
  {
   "cell_type": "markdown",
   "id": "5e07acf1-0a41-4137-a781-bd4b367aaf33",
   "metadata": {},
   "source": [
    "**Design RNN or its variant including LSTM or GRU a) Select a suitable time series dataset.\n",
    "Example – predict sentiments based on product reviews b) Apply for prediction.**"
   ]
  },
  {
   "cell_type": "code",
   "execution_count": 1,
   "id": "66e92fc2-0534-406c-835e-5f8b999466e4",
   "metadata": {},
   "outputs": [],
   "source": [
    "import tensorflow as tf\n",
    "from tensorflow.keras.preprocessing.text import Tokenizer\n",
    "from tensorflow.keras.preprocessing.sequence import pad_sequences\n",
    "from tensorflow.keras.models import Sequential\n",
    "from tensorflow.keras.layers import Embedding, LSTM, Dense, GRU, Dropout"
   ]
  },
  {
   "cell_type": "code",
   "execution_count": 3,
   "id": "7f6cddba-35f7-4183-8a75-17df7082f28f",
   "metadata": {},
   "outputs": [],
   "source": [
    "from sklearn.model_selection import train_test_split"
   ]
  },
  {
   "cell_type": "code",
   "execution_count": 5,
   "id": "2c8008a1-2662-458a-a1b0-ae668c3ca841",
   "metadata": {},
   "outputs": [],
   "source": [
    "import numpy as np"
   ]
  },
  {
   "cell_type": "code",
   "execution_count": 7,
   "id": "1ca42470-9c21-4bf7-a899-b0948f7c8d10",
   "metadata": {},
   "outputs": [],
   "source": [
    "from tensorflow.keras.datasets import imdb"
   ]
  },
  {
   "cell_type": "code",
   "execution_count": 9,
   "id": "6b429160-edc3-41e6-9bdb-4e82af03758f",
   "metadata": {},
   "outputs": [],
   "source": [
    "vocab_size = 10000\n",
    "max_length = 100"
   ]
  },
  {
   "cell_type": "code",
   "execution_count": 11,
   "id": "b1d7d3ca-a730-4b88-bd8e-38ddb3a4b4dc",
   "metadata": {},
   "outputs": [],
   "source": [
    "(x_train, y_train), (x_test, y_test) = imdb.load_data(num_words=vocab_size)"
   ]
  },
  {
   "cell_type": "code",
   "execution_count": 13,
   "id": "e6155766-2b10-4d4d-9742-c3851a321e84",
   "metadata": {},
   "outputs": [
    {
     "data": {
      "text/plain": [
       "158"
      ]
     },
     "execution_count": 13,
     "metadata": {},
     "output_type": "execute_result"
    }
   ],
   "source": [
    "len(x_train[100])"
   ]
  },
  {
   "cell_type": "code",
   "execution_count": 15,
   "id": "03da1373-43ae-4d80-b0a5-6a266931c882",
   "metadata": {},
   "outputs": [],
   "source": [
    "x_train = pad_sequences(x_train, maxlen=max_length, padding='post', truncating='post')\n",
    "x_test = pad_sequences(x_test, maxlen=max_length, padding='post', truncating='post')"
   ]
  },
  {
   "cell_type": "code",
   "execution_count": 17,
   "id": "f3816fc4-ffdf-4563-acda-59b480c047fc",
   "metadata": {},
   "outputs": [
    {
     "name": "stderr",
     "output_type": "stream",
     "text": [
      "C:\\Users\\HP\\anaconda3\\Lib\\site-packages\\keras\\src\\layers\\core\\embedding.py:90: UserWarning: Argument `input_length` is deprecated. Just remove it.\n",
      "  warnings.warn(\n"
     ]
    }
   ],
   "source": [
    "model = Sequential([\n",
    "    Embedding(vocab_size, 128, input_length=max_length),\n",
    "    LSTM(128, return_sequences=True),\n",
    "    Dropout(0.4),\n",
    "    LSTM(64),\n",
    "    Dropout(0.4),\n",
    "    Dense(32, activation='relu'),\n",
    "    Dense(1, activation='sigmoid')\n",
    "])"
   ]
  },
  {
   "cell_type": "code",
   "execution_count": 19,
   "id": "c12a56c1-beed-44df-ae26-2c770ea438d0",
   "metadata": {},
   "outputs": [],
   "source": [
    "x_train = pad_sequences(x_train, maxlen=max_length, padding='post', truncating='post')\n",
    "x_test = pad_sequences(x_test, maxlen=max_length, padding='post', truncating='post')"
   ]
  },
  {
   "cell_type": "code",
   "execution_count": 21,
   "id": "d0ada122-3c47-47f8-8e1e-27a176403509",
   "metadata": {},
   "outputs": [],
   "source": [
    "model.compile(optimizer='adam', loss='binary_crossentropy', metrics=['accuracy'])"
   ]
  },
  {
   "cell_type": "code",
   "execution_count": 41,
   "id": "ebc0cd2d-0dd2-4429-95fd-cfb6897e3f66",
   "metadata": {},
   "outputs": [
    {
     "name": "stdout",
     "output_type": "stream",
     "text": [
      "Epoch 1/5\n",
      "\u001b[1m391/391\u001b[0m \u001b[32m━━━━━━━━━━━━━━━━━━━━\u001b[0m\u001b[37m\u001b[0m \u001b[1m60s\u001b[0m 154ms/step - accuracy: 0.8993 - loss: 0.2607 - val_accuracy: 0.8006 - val_loss: 0.4916\n",
      "Epoch 2/5\n",
      "\u001b[1m391/391\u001b[0m \u001b[32m━━━━━━━━━━━━━━━━━━━━\u001b[0m\u001b[37m\u001b[0m \u001b[1m63s\u001b[0m 161ms/step - accuracy: 0.9169 - loss: 0.2286 - val_accuracy: 0.7986 - val_loss: 0.4954\n",
      "Epoch 3/5\n",
      "\u001b[1m391/391\u001b[0m \u001b[32m━━━━━━━━━━━━━━━━━━━━\u001b[0m\u001b[37m\u001b[0m \u001b[1m65s\u001b[0m 166ms/step - accuracy: 0.9413 - loss: 0.1819 - val_accuracy: 0.7938 - val_loss: 0.5724\n",
      "Epoch 4/5\n",
      "\u001b[1m391/391\u001b[0m \u001b[32m━━━━━━━━━━━━━━━━━━━━\u001b[0m\u001b[37m\u001b[0m \u001b[1m66s\u001b[0m 169ms/step - accuracy: 0.9542 - loss: 0.1516 - val_accuracy: 0.7896 - val_loss: 0.6384\n",
      "Epoch 5/5\n",
      "\u001b[1m391/391\u001b[0m \u001b[32m━━━━━━━━━━━━━━━━━━━━\u001b[0m\u001b[37m\u001b[0m \u001b[1m64s\u001b[0m 163ms/step - accuracy: 0.9643 - loss: 0.1272 - val_accuracy: 0.7904 - val_loss: 0.6460\n"
     ]
    },
    {
     "data": {
      "text/plain": [
       "<keras.src.callbacks.history.History at 0x1ff1e5d0830>"
      ]
     },
     "execution_count": 41,
     "metadata": {},
     "output_type": "execute_result"
    }
   ],
   "source": [
    "model.fit(x_train, y_train, epochs=5, batch_size=64, validation_data=(x_test, y_test))"
   ]
  },
  {
   "cell_type": "code",
   "execution_count": 43,
   "id": "51833ccf-a776-46ba-ae3d-0dd7f2c601b3",
   "metadata": {},
   "outputs": [
    {
     "name": "stdout",
     "output_type": "stream",
     "text": [
      "\u001b[1m782/782\u001b[0m \u001b[32m━━━━━━━━━━━━━━━━━━━━\u001b[0m\u001b[37m\u001b[0m \u001b[1m16s\u001b[0m 21ms/step - accuracy: 0.7896 - loss: 0.6433\n",
      "\n",
      "Test Accuracy: 0.7904\n"
     ]
    }
   ],
   "source": [
    "loss, acc = model.evaluate(x_test, y_test)\n",
    "print(f\"\\nTest Accuracy: {acc:.4f}\")"
   ]
  },
  {
   "cell_type": "code",
   "execution_count": 45,
   "id": "9f56b1fb-36f1-476f-b58a-88db884750ae",
   "metadata": {},
   "outputs": [],
   "source": [
    "word_index = imdb.get_word_index()"
   ]
  },
  {
   "cell_type": "code",
   "execution_count": 47,
   "id": "b27f2794-3537-48cb-991e-a42a6c463937",
   "metadata": {},
   "outputs": [],
   "source": [
    "def preprocess_review(text):\n",
    "    words = text.lower().split()\n",
    "    sequence = [word_index.get(word, 2) + 3 for word in words]\n",
    "    return pad_sequences([sequence], maxlen=max_length, padding='post', truncating='post')"
   ]
  },
  {
   "cell_type": "code",
   "execution_count": 49,
   "id": "c20e3abb-1c68-40cb-aaf4-69406144386b",
   "metadata": {},
   "outputs": [],
   "source": [
    "def predict_review(review_text):\n",
    "    sample_padded = preprocess_review(review_text)\n",
    "    sentiment = model.predict(sample_padded, verbose=0)[0][0]\n",
    "    print(f\"Sentiment Score: {sentiment:.4f}\")\n",
    "    print(\"Predicted Sentiment:\", \"Positive 😊\" if sentiment > 0.5 else \"Negative 😞\")"
   ]
  },
  {
   "cell_type": "code",
   "execution_count": 51,
   "id": "00a82ed2-f576-4d75-90e5-68b865b3cd4a",
   "metadata": {},
   "outputs": [
    {
     "name": "stdout",
     "output_type": "stream",
     "text": [
      "Sentiment Score: 0.9422\n",
      "Predicted Sentiment: Positive 😊\n"
     ]
    }
   ],
   "source": [
    "predict_review(\"This movie was absolutely amazing! The performances were outstanding, and the storyline was so engaging. I loved every moment of it.\")"
   ]
  },
  {
   "cell_type": "code",
   "execution_count": 53,
   "id": "af5beaeb-b0f8-406e-a7d8-e04e14ff0c6a",
   "metadata": {},
   "outputs": [
    {
     "name": "stdout",
     "output_type": "stream",
     "text": [
      "Sentiment Score: 0.0101\n",
      "Predicted Sentiment: Negative 😞\n"
     ]
    }
   ],
   "source": [
    "predict_review(\"The plot was boring and the characters were poorly developed.\")"
   ]
  },
  {
   "cell_type": "code",
   "execution_count": null,
   "id": "41254685-808a-4254-8eaa-342f7a648bf6",
   "metadata": {},
   "outputs": [],
   "source": []
  }
 ],
 "metadata": {
  "kernelspec": {
   "display_name": "Python 3 (ipykernel)",
   "language": "python",
   "name": "python3"
  },
  "language_info": {
   "codemirror_mode": {
    "name": "ipython",
    "version": 3
   },
   "file_extension": ".py",
   "mimetype": "text/x-python",
   "name": "python",
   "nbconvert_exporter": "python",
   "pygments_lexer": "ipython3",
   "version": "3.12.7"
  }
 },
 "nbformat": 4,
 "nbformat_minor": 5
}
