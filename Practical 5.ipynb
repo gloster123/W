{
 "cells": [
  {
   "cell_type": "code",
   "execution_count": 2,
   "id": "6f2db10c-5a5b-49b3-b8cd-0b6a8f5b7ada",
   "metadata": {},
   "outputs": [],
   "source": [
    "import numpy as np\n",
    "from tensorflow.keras.preprocessing.text import Tokenizer\n",
    "from tensorflow.keras.preprocessing.sequence import pad_sequences\n",
    "from tensorflow.keras.models import Sequential\n",
    "from tensorflow.keras.layers import Embedding, SimpleRNN, Dense\n",
    "from sklearn.model_selection import train_test_split\n",
    "from sklearn.preprocessing import LabelEncoder"
   ]
  },
  {
   "cell_type": "code",
   "execution_count": 3,
   "id": "9fec5199-52f3-4fa6-b0d9-007df7a2ebfa",
   "metadata": {},
   "outputs": [],
   "source": [
    "texts = [\n",
    "    # Positive\n",
    "    \"I love this product!\", \"Absolutely fantastic service!\", \"What a great item!\",\n",
    "    \"Loved it! Totally worth it.\", \"Excellent product!\", \"This is amazing!\",\n",
    "    \"Very happy with my purchase.\", \"Super helpful and fast.\", \"Great experience overall.\",\n",
    "    \n",
    "    # Negative\n",
    "    \"Worst experience ever.\", \"Terrible and disappointing.\", \"I'm not happy with this.\",\n",
    "    \"Horrible product!\", \"Awful customer service.\", \"Very bad quality.\",\n",
    "    \"The item broke after one use.\", \"Super slow and buggy.\", \"Really frustrating experience.\",\n",
    "    \n",
    "    # Neutral\n",
    "    \"It was okay, nothing special.\", \"Could be better.\", \"Neutral feeling overall.\",\n",
    "    \"Not great, not terrible.\", \"Average quality.\", \"It works as expected.\",\n",
    "    \"Fine, but not impressive.\", \"Satisfactory.\", \"Just okay.\"\n",
    "]"
   ]
  },
  {
   "cell_type": "code",
   "execution_count": 4,
   "id": "b9736886-d47d-4a9a-8587-65935fd4a3f2",
   "metadata": {},
   "outputs": [],
   "source": [
    "labels = [\n",
    "    \"positive\", \"positive\", \"positive\",\n",
    "    \"positive\", \"positive\", \"positive\",\n",
    "    \"positive\", \"positive\", \"positive\",\n",
    "\n",
    "    \"negative\", \"negative\", \"negative\",\n",
    "    \"negative\", \"negative\", \"negative\",\n",
    "    \"negative\", \"negative\", \"negative\",\n",
    "\n",
    "    \"neutral\", \"neutral\", \"neutral\",\n",
    "    \"neutral\", \"neutral\", \"neutral\",\n",
    "    \"neutral\", \"neutral\", \"neutral\"\n",
    "]"
   ]
  },
  {
   "cell_type": "code",
   "execution_count": 5,
   "id": "faeb4f9b-35ab-4e60-8612-7abae4976e0c",
   "metadata": {},
   "outputs": [],
   "source": [
    "label_encoder = LabelEncoder()\n",
    "encoded_labels = label_encoder.fit_transform(labels)  # 0 = negative, 1 = neutral, 2 = positive"
   ]
  },
  {
   "cell_type": "code",
   "execution_count": 6,
   "id": "8e9ad14e-5d8e-468d-aac6-40be862207d5",
   "metadata": {},
   "outputs": [
    {
     "data": {
      "text/plain": [
       "array([2, 2, 2, 2, 2, 2, 2, 2, 2, 0, 0, 0, 0, 0, 0, 0, 0, 0, 1, 1, 1, 1,\n",
       "       1, 1, 1, 1, 1], dtype=int64)"
      ]
     },
     "execution_count": 6,
     "metadata": {},
     "output_type": "execute_result"
    }
   ],
   "source": [
    "encoded_labels"
   ]
  },
  {
   "cell_type": "code",
   "execution_count": 7,
   "id": "787745dc-1ca2-4066-9f03-0e228e79658c",
   "metadata": {},
   "outputs": [],
   "source": [
    "tokenizer = Tokenizer(num_words=5000)"
   ]
  },
  {
   "cell_type": "code",
   "execution_count": 8,
   "id": "db8a9008-0773-49a6-810a-f4ce5ee37b31",
   "metadata": {},
   "outputs": [],
   "source": [
    "tokenizer.fit_on_texts(texts)"
   ]
  },
  {
   "cell_type": "code",
   "execution_count": 9,
   "id": "8897fd89-d9d2-4325-84e9-37c4c3567942",
   "metadata": {},
   "outputs": [],
   "source": [
    "sequences = tokenizer.texts_to_sequences(texts)"
   ]
  },
  {
   "cell_type": "code",
   "execution_count": 10,
   "id": "45a0d39d-4b4e-4ebf-8e5a-b24b4136ea39",
   "metadata": {},
   "outputs": [],
   "source": [
    "padded_sequences = pad_sequences(sequences, maxlen=100)"
   ]
  },
  {
   "cell_type": "code",
   "execution_count": null,
   "id": "6c48465c-8c05-4932-b02c-96b49ff8cb21",
   "metadata": {},
   "outputs": [],
   "source": []
  },
  {
   "cell_type": "code",
   "execution_count": 12,
   "id": "5465fafb-f19b-4923-9c57-00072c9145eb",
   "metadata": {},
   "outputs": [],
   "source": [
    "X_train, X_test, y_train, y_test = train_test_split(padded_sequences, encoded_labels, test_size=0.2, random_state=42)"
   ]
  },
  {
   "cell_type": "code",
   "execution_count": 13,
   "id": "35a9340f-ee3b-425f-b18c-3113c8651d95",
   "metadata": {},
   "outputs": [
    {
     "name": "stderr",
     "output_type": "stream",
     "text": [
      "C:\\Users\\HP\\anaconda3\\Lib\\site-packages\\keras\\src\\layers\\core\\embedding.py:90: UserWarning: Argument `input_length` is deprecated. Just remove it.\n",
      "  warnings.warn(\n"
     ]
    }
   ],
   "source": [
    "model = Sequential()\n",
    "model.add(Embedding(input_dim=5000, output_dim=64, input_length=100))\n",
    "model.add(SimpleRNN(units=128))  # Increased RNN units\n",
    "model.add(Dense(3, activation='softmax'))"
   ]
  },
  {
   "cell_type": "code",
   "execution_count": 14,
   "id": "0e923cdb-2cac-44d5-9635-013b722b4893",
   "metadata": {},
   "outputs": [],
   "source": [
    "model.compile(loss='sparse_categorical_crossentropy', optimizer='adam', metrics=['accuracy'])"
   ]
  },
  {
   "cell_type": "code",
   "execution_count": 27,
   "id": "fb042a0d-d47d-43ca-af97-d4be40e50c1e",
   "metadata": {},
   "outputs": [
    {
     "name": "stdout",
     "output_type": "stream",
     "text": [
      "Epoch 1/20\n",
      "\u001b[1m6/6\u001b[0m \u001b[32m━━━━━━━━━━━━━━━━━━━━\u001b[0m\u001b[37m\u001b[0m \u001b[1m2s\u001b[0m 53ms/step - accuracy: 0.2555 - loss: 1.1268 - val_accuracy: 0.3333 - val_loss: 1.3682\n",
      "Epoch 2/20\n",
      "\u001b[1m6/6\u001b[0m \u001b[32m━━━━━━━━━━━━━━━━━━━━\u001b[0m\u001b[37m\u001b[0m \u001b[1m0s\u001b[0m 18ms/step - accuracy: 0.4635 - loss: 1.0519 - val_accuracy: 0.3333 - val_loss: 1.2730\n",
      "Epoch 3/20\n",
      "\u001b[1m6/6\u001b[0m \u001b[32m━━━━━━━━━━━━━━━━━━━━\u001b[0m\u001b[37m\u001b[0m \u001b[1m0s\u001b[0m 18ms/step - accuracy: 0.4219 - loss: 1.0198 - val_accuracy: 0.1667 - val_loss: 1.1281\n",
      "Epoch 4/20\n",
      "\u001b[1m6/6\u001b[0m \u001b[32m━━━━━━━━━━━━━━━━━━━━\u001b[0m\u001b[37m\u001b[0m \u001b[1m0s\u001b[0m 19ms/step - accuracy: 0.7384 - loss: 0.9826 - val_accuracy: 0.3333 - val_loss: 1.1309\n",
      "Epoch 5/20\n",
      "\u001b[1m6/6\u001b[0m \u001b[32m━━━━━━━━━━━━━━━━━━━━\u001b[0m\u001b[37m\u001b[0m \u001b[1m0s\u001b[0m 19ms/step - accuracy: 0.9584 - loss: 0.8916 - val_accuracy: 0.1667 - val_loss: 1.1855\n",
      "Epoch 6/20\n",
      "\u001b[1m6/6\u001b[0m \u001b[32m━━━━━━━━━━━━━━━━━━━━\u001b[0m\u001b[37m\u001b[0m \u001b[1m0s\u001b[0m 18ms/step - accuracy: 0.8497 - loss: 0.8178 - val_accuracy: 0.1667 - val_loss: 1.2369\n",
      "Epoch 7/20\n",
      "\u001b[1m6/6\u001b[0m \u001b[32m━━━━━━━━━━━━━━━━━━━━\u001b[0m\u001b[37m\u001b[0m \u001b[1m0s\u001b[0m 18ms/step - accuracy: 0.7860 - loss: 0.7738 - val_accuracy: 0.1667 - val_loss: 1.2056\n",
      "Epoch 8/20\n",
      "\u001b[1m6/6\u001b[0m \u001b[32m━━━━━━━━━━━━━━━━━━━━\u001b[0m\u001b[37m\u001b[0m \u001b[1m0s\u001b[0m 18ms/step - accuracy: 1.0000 - loss: 0.6969 - val_accuracy: 0.1667 - val_loss: 1.2369\n",
      "Epoch 9/20\n",
      "\u001b[1m6/6\u001b[0m \u001b[32m━━━━━━━━━━━━━━━━━━━━\u001b[0m\u001b[37m\u001b[0m \u001b[1m0s\u001b[0m 19ms/step - accuracy: 1.0000 - loss: 0.5866 - val_accuracy: 0.1667 - val_loss: 1.2782\n",
      "Epoch 10/20\n",
      "\u001b[1m6/6\u001b[0m \u001b[32m━━━━━━━━━━━━━━━━━━━━\u001b[0m\u001b[37m\u001b[0m \u001b[1m0s\u001b[0m 20ms/step - accuracy: 0.9703 - loss: 0.4688 - val_accuracy: 0.1667 - val_loss: 1.3489\n",
      "Epoch 11/20\n",
      "\u001b[1m6/6\u001b[0m \u001b[32m━━━━━━━━━━━━━━━━━━━━\u001b[0m\u001b[37m\u001b[0m \u001b[1m0s\u001b[0m 22ms/step - accuracy: 1.0000 - loss: 0.4005 - val_accuracy: 0.1667 - val_loss: 1.3953\n",
      "Epoch 12/20\n",
      "\u001b[1m6/6\u001b[0m \u001b[32m━━━━━━━━━━━━━━━━━━━━\u001b[0m\u001b[37m\u001b[0m \u001b[1m0s\u001b[0m 20ms/step - accuracy: 1.0000 - loss: 0.3207 - val_accuracy: 0.1667 - val_loss: 1.4388\n",
      "Epoch 13/20\n",
      "\u001b[1m6/6\u001b[0m \u001b[32m━━━━━━━━━━━━━━━━━━━━\u001b[0m\u001b[37m\u001b[0m \u001b[1m0s\u001b[0m 19ms/step - accuracy: 1.0000 - loss: 0.2663 - val_accuracy: 0.1667 - val_loss: 1.4601\n",
      "Epoch 14/20\n",
      "\u001b[1m6/6\u001b[0m \u001b[32m━━━━━━━━━━━━━━━━━━━━\u001b[0m\u001b[37m\u001b[0m \u001b[1m0s\u001b[0m 18ms/step - accuracy: 1.0000 - loss: 0.2349 - val_accuracy: 0.3333 - val_loss: 1.4960\n",
      "Epoch 15/20\n",
      "\u001b[1m6/6\u001b[0m \u001b[32m━━━━━━━━━━━━━━━━━━━━\u001b[0m\u001b[37m\u001b[0m \u001b[1m0s\u001b[0m 19ms/step - accuracy: 1.0000 - loss: 0.1825 - val_accuracy: 0.3333 - val_loss: 1.5172\n",
      "Epoch 16/20\n",
      "\u001b[1m6/6\u001b[0m \u001b[32m━━━━━━━━━━━━━━━━━━━━\u001b[0m\u001b[37m\u001b[0m \u001b[1m0s\u001b[0m 22ms/step - accuracy: 1.0000 - loss: 0.1316 - val_accuracy: 0.3333 - val_loss: 1.5704\n",
      "Epoch 17/20\n",
      "\u001b[1m6/6\u001b[0m \u001b[32m━━━━━━━━━━━━━━━━━━━━\u001b[0m\u001b[37m\u001b[0m \u001b[1m0s\u001b[0m 20ms/step - accuracy: 1.0000 - loss: 0.1052 - val_accuracy: 0.3333 - val_loss: 1.5796\n",
      "Epoch 18/20\n",
      "\u001b[1m6/6\u001b[0m \u001b[32m━━━━━━━━━━━━━━━━━━━━\u001b[0m\u001b[37m\u001b[0m \u001b[1m0s\u001b[0m 19ms/step - accuracy: 1.0000 - loss: 0.1026 - val_accuracy: 0.3333 - val_loss: 1.6691\n",
      "Epoch 19/20\n",
      "\u001b[1m6/6\u001b[0m \u001b[32m━━━━━━━━━━━━━━━━━━━━\u001b[0m\u001b[37m\u001b[0m \u001b[1m0s\u001b[0m 18ms/step - accuracy: 1.0000 - loss: 0.0832 - val_accuracy: 0.1667 - val_loss: 1.8070\n",
      "Epoch 20/20\n",
      "\u001b[1m6/6\u001b[0m \u001b[32m━━━━━━━━━━━━━━━━━━━━\u001b[0m\u001b[37m\u001b[0m \u001b[1m0s\u001b[0m 18ms/step - accuracy: 1.0000 - loss: 0.0565 - val_accuracy: 0.3333 - val_loss: 1.7198\n"
     ]
    },
    {
     "data": {
      "text/plain": [
       "<keras.src.callbacks.history.History at 0x1b27e136d50>"
      ]
     },
     "execution_count": 27,
     "metadata": {},
     "output_type": "execute_result"
    }
   ],
   "source": [
    "model.fit(X_train, y_train, epochs=20, batch_size=4, validation_data=(X_test, y_test))"
   ]
  },
  {
   "cell_type": "code",
   "execution_count": 29,
   "id": "4b9afc72-836f-47ac-8b37-d98a09ff3114",
   "metadata": {},
   "outputs": [],
   "source": [
    "new_texts = [\n",
    "    \"I really love the performance!\",\n",
    "    \"Not what I expected.\",\n",
    "    \"It’s just average.\",\n",
    "    \"Completely useless and bad.\",\n",
    "    \"Fantastic quality!\"\n",
    "]"
   ]
  },
  {
   "cell_type": "code",
   "execution_count": 33,
   "id": "db816036-1583-4eb9-9ccd-9298cbbb5c8b",
   "metadata": {},
   "outputs": [],
   "source": [
    "new_seq = tokenizer.texts_to_sequences(new_texts)"
   ]
  },
  {
   "cell_type": "code",
   "execution_count": 35,
   "id": "6654cfc0-425c-4805-a058-1c2c217a96d9",
   "metadata": {},
   "outputs": [],
   "source": [
    "new_pad = pad_sequences(new_seq, maxlen=100)"
   ]
  },
  {
   "cell_type": "code",
   "execution_count": 37,
   "id": "b0ecc044-48b3-43a3-bea5-cc2b6c2429bf",
   "metadata": {},
   "outputs": [
    {
     "name": "stdout",
     "output_type": "stream",
     "text": [
      "\u001b[1m1/1\u001b[0m \u001b[32m━━━━━━━━━━━━━━━━━━━━\u001b[0m\u001b[37m\u001b[0m \u001b[1m0s\u001b[0m 131ms/step\n"
     ]
    }
   ],
   "source": [
    "predictions = model.predict(new_pad)"
   ]
  },
  {
   "cell_type": "code",
   "execution_count": 41,
   "id": "a1d9fdea-5248-482a-b4ac-591ab7bae57f",
   "metadata": {},
   "outputs": [
    {
     "name": "stdout",
     "output_type": "stream",
     "text": [
      "Text: I really love the performance!\n",
      "Predicted Sentiment: negative\n",
      "\n",
      "Text: Not what I expected.\n",
      "Predicted Sentiment: neutral\n",
      "\n",
      "Text: It’s just average.\n",
      "Predicted Sentiment: neutral\n",
      "\n",
      "Text: Completely useless and bad.\n",
      "Predicted Sentiment: negative\n",
      "\n",
      "Text: Fantastic quality!\n",
      "Predicted Sentiment: positive\n",
      "\n"
     ]
    }
   ],
   "source": [
    "for i, pred in enumerate(predictions):\n",
    "    sentiment = label_encoder.inverse_transform([np.argmax(pred)])\n",
    "    print(f\"Text: {new_texts[i]}\")\n",
    "    print(f\"Predicted Sentiment: {sentiment[0]}\")\n",
    "    print()"
   ]
  },
  {
   "cell_type": "code",
   "execution_count": null,
   "id": "a7bee0e6-0411-45e0-84a7-08c69dfd11a5",
   "metadata": {},
   "outputs": [],
   "source": []
  }
 ],
 "metadata": {
  "kernelspec": {
   "display_name": "Python 3 (ipykernel)",
   "language": "python",
   "name": "python3"
  },
  "language_info": {
   "codemirror_mode": {
    "name": "ipython",
    "version": 3
   },
   "file_extension": ".py",
   "mimetype": "text/x-python",
   "name": "python",
   "nbconvert_exporter": "python",
   "pygments_lexer": "ipython3",
   "version": "3.12.7"
  }
 },
 "nbformat": 4,
 "nbformat_minor": 5
}
